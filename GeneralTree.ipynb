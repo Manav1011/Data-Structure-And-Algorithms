{
 "cells": [
  {
   "cell_type": "code",
   "execution_count": 188,
   "metadata": {},
   "outputs": [],
   "source": [
    "class Tree:\n",
    "    def __init__(self,data):\n",
    "        self.data=data\n",
    "        self.children = set({})\n",
    "        self.parent = None\n",
    "        \n",
    "    def add_children(self,data):\n",
    "        self.children.add(data)\n",
    "        data.parent=self\n",
    "        \n",
    "    def get_level(self):\n",
    "        level= 0\n",
    "        p = self.parent\n",
    "        while p:\n",
    "            level+=1\n",
    "            p=p.parent\n",
    "        return level\n",
    "    \n",
    "    def print(self):\n",
    "        spaces=' '*self.get_level()        \n",
    "        print(f\"{spaces}|__{self.data}\")\n",
    "        if self.children:\n",
    "            for i in self.children:\n",
    "                i.print()\n",
    "        "
   ]
  },
  {
   "cell_type": "code",
   "execution_count": 189,
   "metadata": {},
   "outputs": [],
   "source": [
    "root=Tree(\"Electronics\")\n",
    "Laptop=Tree(\"Laptops\")\n",
    "CellPhones=Tree(\"CellPhones\")\n",
    "Cameras=Tree(\"Cameras\")"
   ]
  },
  {
   "cell_type": "code",
   "execution_count": 190,
   "metadata": {},
   "outputs": [],
   "source": [
    "root.add_children(Laptop)"
   ]
  },
  {
   "cell_type": "code",
   "execution_count": 191,
   "metadata": {},
   "outputs": [],
   "source": [
    "root.add_children(CellPhones)\n",
    "root.add_children(Cameras)"
   ]
  },
  {
   "cell_type": "code",
   "execution_count": 192,
   "metadata": {},
   "outputs": [],
   "source": [
    "Laptop.add_children(Tree(\"Macbook\"))\n",
    "Laptop.add_children(Tree(\"Surface\"))\n",
    "Laptop.add_children(Tree(\"Thinkpad\"))"
   ]
  },
  {
   "cell_type": "code",
   "execution_count": 193,
   "metadata": {},
   "outputs": [],
   "source": [
    "CellPhones.add_children(Tree(\"Iphone\"))\n",
    "CellPhones.add_children(Tree(\"Windows\"))\n",
    "CellPhones.add_children(Tree(\"Android\"))"
   ]
  },
  {
   "cell_type": "code",
   "execution_count": 194,
   "metadata": {},
   "outputs": [],
   "source": [
    "Cameras.add_children(Tree(\"Nikon\"))\n",
    "Cameras.add_children(Tree(\"Sony\"))\n",
    "Cameras.add_children(Tree(\"Canon\"))"
   ]
  },
  {
   "cell_type": "code",
   "execution_count": 195,
   "metadata": {},
   "outputs": [
    {
     "name": "stdout",
     "output_type": "stream",
     "text": [
      "|__Electronics\n",
      " |__Laptops\n",
      "  |__Macbook\n",
      "  |__Thinkpad\n",
      "  |__Surface\n",
      " |__CellPhones\n",
      "  |__Iphone\n",
      "  |__Windows\n",
      "  |__Android\n",
      " |__Cameras\n",
      "  |__Sony\n",
      "  |__Canon\n",
      "  |__Nikon\n"
     ]
    }
   ],
   "source": [
    "root.print()"
   ]
  }
 ],
 "metadata": {
  "kernelspec": {
   "display_name": "Python 3.10.5 64-bit",
   "language": "python",
   "name": "python3"
  },
  "language_info": {
   "codemirror_mode": {
    "name": "ipython",
    "version": 3
   },
   "file_extension": ".py",
   "mimetype": "text/x-python",
   "name": "python",
   "nbconvert_exporter": "python",
   "pygments_lexer": "ipython3",
   "version": "3.10.5"
  },
  "orig_nbformat": 4,
  "vscode": {
   "interpreter": {
    "hash": "e2611f44f806f6d4bdec6164674388ade8a86ad4e81af7ef1563613438bedb91"
   }
  }
 },
 "nbformat": 4,
 "nbformat_minor": 2
}
