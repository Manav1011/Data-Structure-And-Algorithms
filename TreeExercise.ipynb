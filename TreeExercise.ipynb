{
 "cells": [
  {
   "cell_type": "code",
   "execution_count": 60,
   "metadata": {},
   "outputs": [],
   "source": [
    "class BusinessTree:\n",
    "    def __init__(self,name,designation):\n",
    "        self.name = name\n",
    "        self.designation = designation\n",
    "        self.children = set({})        \n",
    "        self.parent = None\n",
    "        \n",
    "    def add_children(self,data):\n",
    "        self.children.add(data)\n",
    "        data.parent = self\n",
    "        \n",
    "    def get_level(self):\n",
    "        Parent=self.parent\n",
    "        level = 0\n",
    "        while Parent:\n",
    "            level += 1\n",
    "            Parent = Parent.parent\n",
    "        return level\n",
    "    def print(self,choice):\n",
    "        level = self.get_level()\n",
    "        spaces = '    '*level\n",
    "        if choice == 'both':\n",
    "            print(f\"{spaces}|__{self.name} ({self.designation})\")\n",
    "        elif choice == 'name':\n",
    "            print(f\"{spaces}|__{self.name}\")\n",
    "        elif choice == 'designation':\n",
    "            print(f\"{spaces}|__{self.designation}\")\n",
    "        if self.children:\n",
    "            for i in self.children:\n",
    "                i.print(choice)"
   ]
  },
  {
   "cell_type": "code",
   "execution_count": 61,
   "metadata": {},
   "outputs": [],
   "source": [
    "Manav = BusinessTree(\"Manav\",\"CEO\")"
   ]
  },
  {
   "cell_type": "code",
   "execution_count": 62,
   "metadata": {},
   "outputs": [],
   "source": [
    "Prathmesh = BusinessTree(\"Prathmesh\",'CTO')\n",
    "Parth = BusinessTree(\"Parth\",'CTO')\n",
    "Yashvi = BusinessTree(\"Yashvi\",'HR Head')"
   ]
  },
  {
   "cell_type": "code",
   "execution_count": 63,
   "metadata": {},
   "outputs": [],
   "source": [
    "Manav.add_children(Prathmesh)\n",
    "Manav.add_children(Parth)\n",
    "Manav.add_children(Yashvi)"
   ]
  },
  {
   "cell_type": "code",
   "execution_count": 64,
   "metadata": {},
   "outputs": [],
   "source": [
    "Prathmesh.add_children(BusinessTree(\"Ankit\",\"Cloud Manager\"))\n",
    "Prathmesh.add_children(BusinessTree(\"Paliya\",\"App Manager\"))"
   ]
  },
  {
   "cell_type": "code",
   "execution_count": 65,
   "metadata": {},
   "outputs": [],
   "source": [
    "Parth.add_children(BusinessTree(\"Om\",'Cloud Manager'))\n",
    "Parth.add_children(BusinessTree(\"Vicky\",'App Manager'))"
   ]
  },
  {
   "cell_type": "code",
   "execution_count": 66,
   "metadata": {},
   "outputs": [],
   "source": [
    "Yashvi.add_children(BusinessTree(\"Charmy\",\"Recruitment Manager\"))\n",
    "Yashvi.add_children(BusinessTree(\"Manush\",\"Policy Manager\"))"
   ]
  },
  {
   "cell_type": "code",
   "execution_count": 72,
   "metadata": {},
   "outputs": [
    {
     "name": "stdout",
     "output_type": "stream",
     "text": [
      "|__Manav (CEO)\n",
      "    |__Prathmesh (CTO)\n",
      "        |__Ankit (Cloud Manager)\n",
      "        |__Paliya (App Manager)\n",
      "    |__Parth (CTO)\n",
      "        |__Vicky (App Manager)\n",
      "        |__Om (Cloud Manager)\n",
      "    |__Yashvi (HR Head)\n",
      "        |__Charmy (Recruitment Manager)\n",
      "        |__Manush (Policy Manager)\n"
     ]
    }
   ],
   "source": [
    "Manav.print('both')"
   ]
  }
 ],
 "metadata": {
  "kernelspec": {
   "display_name": "Python 3.10.5 64-bit",
   "language": "python",
   "name": "python3"
  },
  "language_info": {
   "codemirror_mode": {
    "name": "ipython",
    "version": 3
   },
   "file_extension": ".py",
   "mimetype": "text/x-python",
   "name": "python",
   "nbconvert_exporter": "python",
   "pygments_lexer": "ipython3",
   "version": "3.10.5"
  },
  "orig_nbformat": 4,
  "vscode": {
   "interpreter": {
    "hash": "e2611f44f806f6d4bdec6164674388ade8a86ad4e81af7ef1563613438bedb91"
   }
  }
 },
 "nbformat": 4,
 "nbformat_minor": 2
}
