{
 "cells": [
  {
   "cell_type": "code",
   "execution_count": 36,
   "metadata": {},
   "outputs": [],
   "source": [
    "class TreeNode:\n",
    "    def __init__(self,data):\n",
    "        self.data = data\n",
    "        self.children = set({})\n",
    "        self.parent = None\n",
    "        \n",
    "    def add_children(self,obj):\n",
    "        self.children.add(obj)\n",
    "        obj.parent = self\n",
    "        \n",
    "        \n",
    "    def get_level(self):\n",
    "        p=self.parent\n",
    "        level = 0\n",
    "        while p:\n",
    "            level+=1\n",
    "            p=p.parent\n",
    "        return level\n",
    "    \n",
    "    def print(self,n):\n",
    "        if n < 0:\n",
    "            return\n",
    "        level=self.get_level()\n",
    "        spaces=\"  \"*level\n",
    "        p = self.parent\n",
    "        print(f\"{spaces}|__{self.data}\")\n",
    "        for i in self.children:\n",
    "            i.print(n-1)\n",
    "                "
   ]
  },
  {
   "cell_type": "code",
   "execution_count": 37,
   "metadata": {},
   "outputs": [],
   "source": [
    "Global=TreeNode(\"Global\")"
   ]
  },
  {
   "cell_type": "code",
   "execution_count": 38,
   "metadata": {},
   "outputs": [],
   "source": [
    "India = TreeNode(\"India\")\n",
    "USA = TreeNode(\"USA\")"
   ]
  },
  {
   "cell_type": "code",
   "execution_count": 39,
   "metadata": {},
   "outputs": [],
   "source": [
    "Global.add_children(India)\n",
    "Global.add_children(USA)"
   ]
  },
  {
   "cell_type": "code",
   "execution_count": 40,
   "metadata": {},
   "outputs": [],
   "source": [
    "India.add_children(TreeNode(\"Gujarat\"))\n",
    "India.add_children(TreeNode(\"Maharashtra\"))\n",
    "USA.add_children(TreeNode(\"New Jersey\"))\n",
    "USA.add_children(TreeNode(\"California\"))"
   ]
  },
  {
   "cell_type": "code",
   "execution_count": 51,
   "metadata": {},
   "outputs": [
    {
     "name": "stdout",
     "output_type": "stream",
     "text": [
      "|__Global\n",
      "  |__India\n",
      "    |__Maharashtra\n",
      "    |__Gujarat\n",
      "  |__USA\n",
      "    |__California\n",
      "    |__New Jersey\n"
     ]
    }
   ],
   "source": [
    "Global.print(2)"
   ]
  }
 ],
 "metadata": {
  "kernelspec": {
   "display_name": "Python 3.10.5 64-bit",
   "language": "python",
   "name": "python3"
  },
  "language_info": {
   "codemirror_mode": {
    "name": "ipython",
    "version": 3
   },
   "file_extension": ".py",
   "mimetype": "text/x-python",
   "name": "python",
   "nbconvert_exporter": "python",
   "pygments_lexer": "ipython3",
   "version": "3.10.5"
  },
  "orig_nbformat": 4,
  "vscode": {
   "interpreter": {
    "hash": "e2611f44f806f6d4bdec6164674388ade8a86ad4e81af7ef1563613438bedb91"
   }
  }
 },
 "nbformat": 4,
 "nbformat_minor": 2
}
