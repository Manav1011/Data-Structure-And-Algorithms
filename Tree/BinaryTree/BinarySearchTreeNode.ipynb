{
 "cells": [
  {
   "cell_type": "code",
   "execution_count": 41,
   "metadata": {},
   "outputs": [],
   "source": [
    "class BinarySerchTreeNode:\n",
    "    def __init__(self,data):\n",
    "        self.data = data\n",
    "        self.left = None\n",
    "        self.right = None\n",
    "    def add_child(self,data):\n",
    "        if data == self.data:\n",
    "            return\n",
    "        if data < self.data:\n",
    "            if self.left:\n",
    "                self.left.add_child(data)\n",
    "            else:\n",
    "                self.left = BinarySerchTreeNode(data)\n",
    "        else:\n",
    "            if self.right:\n",
    "                self.right.add_child(data)\n",
    "            else:\n",
    "                self.right = BinarySerchTreeNode(data)\n",
    "                \n",
    "    def in_order_traversal(self):\n",
    "        elements = []\n",
    "        if self.left:\n",
    "            elements += self.left.in_order_traversal()            \n",
    "        elements.append(self.data)\n",
    "        if self.right:\n",
    "            elements += self.right.in_order_traversal()            \n",
    "        return elements\n",
    "    \n",
    "    def search(self,value):        \n",
    "        if self.data == value:\n",
    "            return True\n",
    "        if value < self.data:\n",
    "            if self.left:\n",
    "                return self.left.search(value)\n",
    "            else:\n",
    "                return False\n",
    "        if value > self.data:\n",
    "            if self.right:\n",
    "                return self.right.search(value)\n",
    "            else:\n",
    "                return False\n",
    "\n",
    "\n",
    "def make_tree(data):\n",
    "    root = BinarySerchTreeNode(data[0])\n",
    "    for i in data:\n",
    "        root.add_child(i)\n",
    "    return root        "
   ]
  },
  {
   "cell_type": "code",
   "execution_count": 51,
   "metadata": {},
   "outputs": [
    {
     "name": "stdout",
     "output_type": "stream",
     "text": [
      "['Africa', 'Antarctica', 'Asia', 'Austrelia', 'Europe', 'North America', 'South America']\n",
      "True\n"
     ]
    }
   ],
   "source": [
    "numbers= [\"Asia\",'Europe','North America','South America','Austrelia','Antarctica','Africa']\n",
    "root=make_tree(numbers)\n",
    "print(root.in_order_traversal())\n",
    "print(root.search(\"Africa\"))"
   ]
  }
 ],
 "metadata": {
  "kernelspec": {
   "display_name": "Python 3.10.5 64-bit",
   "language": "python",
   "name": "python3"
  },
  "language_info": {
   "codemirror_mode": {
    "name": "ipython",
    "version": 3
   },
   "file_extension": ".py",
   "mimetype": "text/x-python",
   "name": "python",
   "nbconvert_exporter": "python",
   "pygments_lexer": "ipython3",
   "version": "3.10.5"
  },
  "orig_nbformat": 4,
  "vscode": {
   "interpreter": {
    "hash": "e2611f44f806f6d4bdec6164674388ade8a86ad4e81af7ef1563613438bedb91"
   }
  }
 },
 "nbformat": 4,
 "nbformat_minor": 2
}
