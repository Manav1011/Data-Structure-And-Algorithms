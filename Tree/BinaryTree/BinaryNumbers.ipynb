{
 "cells": [
  {
   "cell_type": "code",
   "execution_count": 15,
   "metadata": {},
   "outputs": [
    {
     "name": "stdout",
     "output_type": "stream",
     "text": [
      "1\n",
      "10\n",
      "11\n",
      "1\n",
      "10\n",
      "11\n",
      "1\n",
      "10\n",
      "11\n",
      "1\n",
      "10\n",
      "11\n",
      "1\n",
      "10\n",
      "11\n"
     ]
    }
   ],
   "source": [
    "# 1\n",
    "# 10\n",
    "# 11\n",
    "# 100\n",
    "# 101\n",
    "# 110\n",
    "# 111\n",
    "# 1000\n",
    "# 1001\n",
    "# 1010\n",
    "\n",
    "\n",
    "first = '1'\n",
    "for i in range(0,5):\n",
    "    print(first)\n",
    "    next=first + '0'\n",
    "    print(next)\n",
    "    print(int(next)+1)    \n",
    "        \n",
    "    "
   ]
  },
  {
   "cell_type": "code",
   "execution_count": null,
   "metadata": {},
   "outputs": [],
   "source": []
  }
 ],
 "metadata": {
  "kernelspec": {
   "display_name": "Python 3.10.5 64-bit",
   "language": "python",
   "name": "python3"
  },
  "language_info": {
   "codemirror_mode": {
    "name": "ipython",
    "version": 3
   },
   "file_extension": ".py",
   "mimetype": "text/x-python",
   "name": "python",
   "nbconvert_exporter": "python",
   "pygments_lexer": "ipython3",
   "version": "3.10.5"
  },
  "orig_nbformat": 4,
  "vscode": {
   "interpreter": {
    "hash": "e2611f44f806f6d4bdec6164674388ade8a86ad4e81af7ef1563613438bedb91"
   }
  }
 },
 "nbformat": 4,
 "nbformat_minor": 2
}
