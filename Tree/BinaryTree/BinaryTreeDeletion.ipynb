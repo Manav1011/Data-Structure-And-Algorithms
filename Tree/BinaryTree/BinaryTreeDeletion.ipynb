{
 "cells": [
  {
   "cell_type": "code",
   "execution_count": 34,
   "metadata": {},
   "outputs": [],
   "source": [
    "class BinarySerchTreeNode:\n",
    "    def __init__(self,data):\n",
    "        self.data = data\n",
    "        self.left = None\n",
    "        self.right = None\n",
    "    def add_child(self,data):\n",
    "        if data == self.data:\n",
    "            return\n",
    "        if data < self.data:\n",
    "            if self.left:\n",
    "                self.left.add_child(data)\n",
    "            else:\n",
    "                self.left = BinarySerchTreeNode(data)\n",
    "        else:\n",
    "            if self.right:\n",
    "                self.right.add_child(data)\n",
    "            else:\n",
    "                self.right = BinarySerchTreeNode(data)    \n",
    "                \n",
    "    def in_order_traversal(self):\n",
    "        elements = []\n",
    "        if self.left:\n",
    "            elements += self.left.in_order_traversal()\n",
    "        elements.append(self.data)\n",
    "        if self.right:\n",
    "            elements += self.right.in_order_traversal()\n",
    "        return elements\n",
    "    \n",
    "    def pre_order_traversal(self):\n",
    "        elements = []\n",
    "        elements.append(self.data)        \n",
    "        if self.left:   \n",
    "            elements += self.left.pre_order_traversal()        \n",
    "        if self.right:            \n",
    "            elements += self.right.pre_order_traversal()\n",
    "        return elements\n",
    "            \n",
    "            \n",
    "    def post_order_traversal(self):\n",
    "        elements=[]\n",
    "        if self.left:\n",
    "            elements += self.left.post_order_traversal()        \n",
    "        if self.right:\n",
    "            elements += self.right.post_order_traversal()\n",
    "        elements.append(self.data)    \n",
    "        return elements\n",
    "    def find_min(self):\n",
    "        if not self.left:\n",
    "            return self.data\n",
    "        return self.left.find_min()\n",
    "    \n",
    "    def find_max(self):\n",
    "        if not self.right:\n",
    "            return self.data\n",
    "        return self.right.find_max()\n",
    "\n",
    "    def calculate_sum(self):\n",
    "        elements=self.post_order_traversal()\n",
    "        sum = 0\n",
    "        for i in elements:\n",
    "            sum += i\n",
    "        return sum    \n",
    "    \n",
    "    def delete(self,val):\n",
    "        if val < self.data:\n",
    "            if self.left:\n",
    "                self.left=self.left.delete(val)\n",
    "        elif val > self.data:\n",
    "            if self.right:\n",
    "                self.right=self.right.delete(val)\n",
    "        else:\n",
    "        \n",
    "            if self.left is None and self.right is None:\n",
    "                return None\n",
    "            if self.left is None:\n",
    "                return self.right\n",
    "            if self.right is None:\n",
    "                return self.left\n",
    "            \n",
    "            min_val=self.right.find_min()\n",
    "            self.data=min_val\n",
    "            self.right=self.right.delete(min_val)\n",
    "        \n",
    "        return self\n",
    "        \n",
    "        \n",
    "        \n",
    "def make_tree(data):\n",
    "    root = BinarySerchTreeNode(data[0])\n",
    "    for i in data:\n",
    "        root.add_child(i)\n",
    "    return root       "
   ]
  },
  {
   "cell_type": "code",
   "execution_count": 35,
   "metadata": {},
   "outputs": [
    {
     "name": "stdout",
     "output_type": "stream",
     "text": [
      "Before deleting [3, 4, 5, 9, 10, 17, 18]\n",
      "after deleting 20 [3, 5, 9, 10, 17, 18]\n"
     ]
    }
   ],
   "source": [
    "numbers= [17,4,18,3,10,5,9]\n",
    "root=make_tree(numbers)\n",
    "print(f\"Before deleting {root.in_order_traversal()}\")\n",
    "root.delete(4)\n",
    "print(f'after deleting 20 {root.in_order_traversal()}')"
   ]
  }
 ],
 "metadata": {
  "kernelspec": {
   "display_name": "Python 3.10.5 64-bit",
   "language": "python",
   "name": "python3"
  },
  "language_info": {
   "codemirror_mode": {
    "name": "ipython",
    "version": 3
   },
   "file_extension": ".py",
   "mimetype": "text/x-python",
   "name": "python",
   "nbconvert_exporter": "python",
   "pygments_lexer": "ipython3",
   "version": "3.10.5"
  },
  "orig_nbformat": 4,
  "vscode": {
   "interpreter": {
    "hash": "e2611f44f806f6d4bdec6164674388ade8a86ad4e81af7ef1563613438bedb91"
   }
  }
 },
 "nbformat": 4,
 "nbformat_minor": 2
}
